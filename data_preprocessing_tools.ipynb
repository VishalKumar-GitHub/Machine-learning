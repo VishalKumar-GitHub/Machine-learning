{
  "nbformat": 4,
  "nbformat_minor": 0,
  "metadata": {
    "colab": {
      "provenance": []
    },
    "kernelspec": {
      "name": "python3",
      "display_name": "Python 3"
    }
  },
  "cells": [
    {
      "cell_type": "markdown",
      "metadata": {
        "id": "37puETfgRzzg"
      },
      "source": [
        "# Data Preprocessing Tools"
      ]
    },
    {
      "cell_type": "markdown",
      "source": [
        "if our data is missing and categorical data then use these tools to take care of this"
      ],
      "metadata": {
        "id": "9WcwsP-6FgVP"
      }
    },
    {
      "cell_type": "markdown",
      "metadata": {
        "id": "EoRP98MpR-qj"
      },
      "source": [
        "## Importing the libraries"
      ]
    },
    {
      "cell_type": "code",
      "metadata": {
        "id": "N-qiINBQSK2g"
      },
      "source": [
        "import numpy as np\n",
        "import matplotlib.pyplot as plt\n",
        "import pandas as pd"
      ],
      "execution_count": null,
      "outputs": []
    },
    {
      "cell_type": "markdown",
      "metadata": {
        "id": "RopL7tUZSQkT"
      },
      "source": [
        "## Importing the dataset"
      ]
    },
    {
      "cell_type": "code",
      "metadata": {
        "id": "WwEPNDWySTKm"
      },
      "source": [
        "dataset = pd.read_csv('Data.csv')\n",
        "X = dataset.iloc[:, :-1].values\n",
        "y = dataset.iloc[:, -1].values"
      ],
      "execution_count": null,
      "outputs": []
    },
    {
      "cell_type": "markdown",
      "source": [
        " **iloc** is here locate indexis\n",
        "\n",
        "**:** colon\n",
        "\n",
        "(' ') parenthesis with coat"
      ],
      "metadata": {
        "id": "L4R3qDQn9wPB"
      }
    },
    {
      "cell_type": "markdown",
      "source": [
        "**X = dataset.iloc[:, :-1].values**\n",
        "\n",
        "**.iloc** is used **to select rows and columns by index position** in a DataFrame.\n",
        "\n",
        "**[:, :-1]** means:\n",
        "\n",
        "**:** selects all rows.\n",
        "\n",
        "**:-1** selects all columns except the last one (because -1 refers to the last column).\n",
        "\n",
        "**.values** converts **the selected portion into a NumPy array**."
      ],
      "metadata": {
        "id": "_v8vuu5RJE4C"
      }
    },
    {
      "cell_type": "markdown",
      "source": [
        "**y = dataset.iloc[:, -1].values**\n",
        "\n",
        "**[:, -1]** selects:\n",
        "\n",
        "**:** selects all rows.\n",
        "\n",
        "**-1** selects only the last column (in this case, Purchased).\n",
        "\n",
        "**.values** converts the selected portion into a NumPy array."
      ],
      "metadata": {
        "id": "dyxCjkRlJglA"
      }
    },
    {
      "cell_type": "code",
      "metadata": {
        "id": "hCsz2yCebe1R",
        "outputId": "ab969b73-2a84-4dc6-eaad-89ec8b0c4b48",
        "colab": {
          "base_uri": "https://localhost:8080/"
        }
      },
      "source": [
        "print(X)"
      ],
      "execution_count": null,
      "outputs": [
        {
          "output_type": "stream",
          "name": "stdout",
          "text": [
            "[['France' 44.0 72000.0]\n",
            " ['Spain' 27.0 48000.0]\n",
            " ['Germany' 30.0 54000.0]\n",
            " ['Spain' 38.0 61000.0]\n",
            " ['Germany' 40.0 nan]\n",
            " ['France' 35.0 58000.0]\n",
            " ['Spain' nan 52000.0]\n",
            " ['France' 48.0 79000.0]\n",
            " ['Germany' 50.0 83000.0]\n",
            " ['France' 37.0 67000.0]]\n"
          ]
        }
      ]
    },
    {
      "cell_type": "code",
      "metadata": {
        "id": "eYrOQ43XcJR3",
        "outputId": "6d881f71-b11d-44f6-c774-9229a6398b20",
        "colab": {
          "base_uri": "https://localhost:8080/"
        }
      },
      "source": [
        "print(y)"
      ],
      "execution_count": null,
      "outputs": [
        {
          "output_type": "stream",
          "name": "stdout",
          "text": [
            "['No' 'Yes' 'No' 'No' 'Yes' 'Yes' 'No' 'Yes' 'No' 'Yes']\n"
          ]
        }
      ]
    },
    {
      "cell_type": "markdown",
      "metadata": {
        "id": "nhfKXNxlSabC"
      },
      "source": [
        "## Taking care of missing data"
      ]
    },
    {
      "cell_type": "code",
      "metadata": {
        "id": "c93k7ipkSexq"
      },
      "source": [
        "from sklearn.impute import SimpleImputer\n",
        "imputer = SimpleImputer(missing_values=np.nan, strategy='mean')\n",
        "imputer.fit(X[:, 1:3])\n",
        "X[:, 1:3] = imputer.transform(X[:, 1:3])"
      ],
      "execution_count": null,
      "outputs": []
    },
    {
      "cell_type": "markdown",
      "source": [
        "**SimpleImputer** is a class from the sklearn library used to handle missing values in a dataset.\n",
        "\n",
        "It replaces missing values with a specified strategy (e.g., the **mean, median, or a constant**).\n",
        "\n",
        "**Parameters:**\n",
        "\n",
        "**missing_values=np.nan**: Specifies that the missing values in the dataset are represented as NaN (Not a Number).\n",
        "\n",
        "**strategy='mean'**: Specifies the `imputation strategy` to replace missing values:\n",
        "\n",
        "In this case, missing values will be replaced with the mean of the respective column.\n",
        "\n",
        "**fit()** calculates the necessary statistics (e.g., mean) from the data.\n",
        "\n",
        "**transform()** replaces the missing values in the selected columns with the statistics (mean in this case) calculated during the **fit()** step.\n",
        "\n",
        "What is X?\n",
        "\n",
        "**X** is **a list of lists** in Python. Each sublist represents a row in a dataset, and the columns in each row have specific meanings.\n",
        "\n",
        "**Structure of X**:\n",
        "\n",
        "The dataset X has 3 columns:\n",
        "\n",
        "Column 1 (Country): The country name ('France', 'Spain', 'Germany', etc.).\n",
        "\n",
        "Column 2 (Age): The age of an individual (44.0, 27.0, etc.).\n",
        "\n",
        "Column 3 (Salary): The salary of the individual (72000.0, 48000.0, etc.). Some values are missing (nan).\n",
        "\n"
      ],
      "metadata": {
        "id": "Sa3zTIw7nJ8l"
      }
    },
    {
      "cell_type": "markdown",
      "source": [
        "##Python's Zero-Based Indexing\n",
        "Python uses zero-based indexing, meaning the **first element** in a sequence is accessed **using the index 0,** the second element with index 1, and so on.\n",
        "\n",
        "This applies to **tuples, lists strings, arrays**, and other data structures.\n",
        "\n",
        "It provides consistency with many programming languages like C, Java, and JavaScript."
      ],
      "metadata": {
        "id": "r1Or2xg8o5tx"
      }
    },
    {
      "cell_type": "code",
      "metadata": {
        "id": "3UgLdMS_bjq_",
        "outputId": "0cf9fc1e-a002-4809-b889-6fb933505785",
        "colab": {
          "base_uri": "https://localhost:8080/"
        }
      },
      "source": [
        "print(X)"
      ],
      "execution_count": null,
      "outputs": [
        {
          "output_type": "stream",
          "name": "stdout",
          "text": [
            "[['France' 44.0 72000.0]\n",
            " ['Spain' 27.0 48000.0]\n",
            " ['Germany' 30.0 54000.0]\n",
            " ['Spain' 38.0 61000.0]\n",
            " ['Germany' 40.0 63777.77777777778]\n",
            " ['France' 35.0 58000.0]\n",
            " ['Spain' 38.77777777777778 52000.0]\n",
            " ['France' 48.0 79000.0]\n",
            " ['Germany' 50.0 83000.0]\n",
            " ['France' 37.0 67000.0]]\n"
          ]
        }
      ]
    },
    {
      "cell_type": "markdown",
      "metadata": {
        "id": "CriG6VzVSjcK"
      },
      "source": [
        "## Encoding categorical data"
      ]
    },
    {
      "cell_type": "markdown",
      "metadata": {
        "id": "AhSpdQWeSsFh"
      },
      "source": [
        "### Encoding the Independent Variable"
      ]
    },
    {
      "cell_type": "code",
      "metadata": {
        "id": "5hwuVddlSwVi"
      },
      "source": [
        "from sklearn.compose import ColumnTransformer\n",
        "from sklearn.preprocessing import OneHotEncoder\n",
        "ct = ColumnTransformer(transformers=[('encoder', OneHotEncoder(), [0])], remainder='passthrough')\n",
        "X = np.array(ct.fit_transform(X))"
      ],
      "execution_count": null,
      "outputs": []
    },
    {
      "cell_type": "markdown",
      "source": [
        "The **ColumnTransformer** is used to apply transformations to specific columns of a dataset.\n",
        "\n",
        "In this case, it applies OneHotEncoder to the \"Country\" column (indexed as 0).\n",
        "Parameters of ColumnTransformer:\n",
        "\n",
        "transformers: **A list of tuples** specifying transformations. Each tuple contains:\n",
        "A name for the transformer (here: '**encoder**').\n",
        "\n",
        "The transformation method (here: **OneHotEncoder()**).\n",
        "\n",
        "The column(s) to apply the transformation to (here: **[0]** for the \"Country\" column).\n",
        "\n",
        "remainder='**passthrough**': This means columns not specified in the transformers list (e.g., \"Age\", \"Salary\", \"Purchased\") will remain unchanged.\n",
        "\n",
        "OneHotEncoder\n",
        "\n",
        "Converts the \"Country\" column into a **one-hot encoded format**:\n",
        "\n",
        "If the column has three categories (France, Spain, Germany), they will be transformed into **three new binary columns**:\n",
        "\n",
        "[1, 0, 0] for France\n",
        "\n",
        "[0, 1, 0] for Spain\n",
        "\n",
        "[0, 0, 1] for Germany\n",
        "\n",
        "**X = np.array(ct.fit_transform(X))**\n",
        "\n",
        "**ct.fit_transform(X):**\n",
        "**Fits the ColumnTransformer to the dataset X** (containing the features) and applies the transformations.\n",
        "\n",
        "The \"Country\" column is replaced with its one-hot encoded representation.\n",
        "\n",
        "**np.array(...):**\n",
        "**Converts the result into a NumPy array**, which is often required for compatibility with other Scikit-learn functions."
      ],
      "metadata": {
        "id": "qDM1dEztyrNB"
      }
    },
    {
      "cell_type": "code",
      "metadata": {
        "id": "f7QspewyeBfx",
        "outputId": "fdc22818-393b-4011-fd50-32b677e1e580",
        "colab": {
          "base_uri": "https://localhost:8080/"
        }
      },
      "source": [
        "print(X)"
      ],
      "execution_count": null,
      "outputs": [
        {
          "output_type": "stream",
          "name": "stdout",
          "text": [
            "[[1.0 0.0 0.0 44.0 72000.0]\n",
            " [0.0 0.0 1.0 27.0 48000.0]\n",
            " [0.0 1.0 0.0 30.0 54000.0]\n",
            " [0.0 0.0 1.0 38.0 61000.0]\n",
            " [0.0 1.0 0.0 40.0 63777.77777777778]\n",
            " [1.0 0.0 0.0 35.0 58000.0]\n",
            " [0.0 0.0 1.0 38.77777777777778 52000.0]\n",
            " [1.0 0.0 0.0 48.0 79000.0]\n",
            " [0.0 1.0 0.0 50.0 83000.0]\n",
            " [1.0 0.0 0.0 37.0 67000.0]]\n"
          ]
        }
      ]
    },
    {
      "cell_type": "markdown",
      "metadata": {
        "id": "DXh8oVSITIc6"
      },
      "source": [
        "### Encoding the Dependent Variable"
      ]
    },
    {
      "cell_type": "code",
      "metadata": {
        "id": "XgHCShVyTOYY"
      },
      "source": [
        "from sklearn.preprocessing import LabelEncoder\n",
        "le = LabelEncoder()\n",
        "y = le.fit_transform(y)"
      ],
      "execution_count": null,
      "outputs": []
    },
    {
      "cell_type": "markdown",
      "source": [
        "**le = LabelEncoder()**:\n",
        "\n",
        "Creates an instance of the LabelEncoder.\n",
        "\n",
        "**le.fit_transform(y)**:\n",
        "\n",
        "**fit(y)**: Identifies the unique categories in the target variable y.\n",
        "\n",
        "**transform(y)**: Converts each category into its corresponding numerical representation.\n",
        "\n",
        "Combines both steps (fit and transform) in one call for convenience.\n",
        "\n",
        "The transformed y will now be a NumPy array with numerical values.\n",
        "\n",
        "\n",
        "**Note**:\n",
        "\n",
        "**LabelEncoder** ---It should only be used for the target variable (y), not for input features. For input features, use encoders like OneHotEncoder.\n",
        "\n",
        "**When to use it:**\n",
        "\n",
        "When the target variable is categorical and needs to be encoded numerically for machine learning.\n"
      ],
      "metadata": {
        "id": "n1ipWUwh10z_"
      }
    },
    {
      "cell_type": "code",
      "metadata": {
        "id": "FyhY8-gPpFCa",
        "outputId": "36050f97-fee3-4d3f-91de-28071a7a8e79",
        "colab": {
          "base_uri": "https://localhost:8080/"
        }
      },
      "source": [
        "print(y)"
      ],
      "execution_count": null,
      "outputs": [
        {
          "output_type": "stream",
          "name": "stdout",
          "text": [
            "[0 1 0 0 1 1 0 1 0 1]\n"
          ]
        }
      ]
    },
    {
      "cell_type": "markdown",
      "metadata": {
        "id": "qb_vcgm3qZKW"
      },
      "source": [
        "## Splitting the dataset into the Training set and Test set"
      ]
    },
    {
      "cell_type": "code",
      "metadata": {
        "id": "pXgA6CzlqbCl"
      },
      "source": [
        "from sklearn.model_selection import train_test_split\n",
        "X_train, X_test, y_train, y_test = train_test_split(X, y, test_size = 0.2, random_state = 1)"
      ],
      "execution_count": null,
      "outputs": []
    },
    {
      "cell_type": "markdown",
      "source": [
        "####four variable return after train_test_split funtion (x_train, x_test, y_train, y_test)"
      ],
      "metadata": {
        "id": "N_kq5RckCJdw"
      }
    },
    {
      "cell_type": "markdown",
      "source": [
        "### Uses the `train_test_split` **function** `from sklearn.model_selection` to split the dataset into `training` and `testing ` **subsets**.\n",
        "\n",
        "### `X`:\n",
        "The features (independent variables) of your dataset. This is typically a 2D array or DataFrame containing input data such as numeric or categorical features.\n",
        "\n",
        "`y`:\n",
        "\n",
        "The target variable (dependent variable) you want to predict. This can be a 1D array or Series containing labels or numerical outputs (e.g., classification labels or regression values).\n",
        "\n",
        "`test_size=0.2`:\n",
        "\n",
        "The proportion of the dataset to include in the test split. In this case, 20% of the data will be allocated to the test set, and the remaining 80% will be allocated to the training set.\n",
        "\n",
        "`random_state=1`:\n",
        "\n",
        "This is a seed value used to ensure the random splitting is reproducible. Setting the `random_state` **ensures that every time you run the code, the train-test split will produce the same result**.\n"
      ],
      "metadata": {
        "id": "fCoBqbPl01nq"
      }
    },
    {
      "cell_type": "code",
      "metadata": {
        "id": "GuwQhFdKrYTM",
        "outputId": "ef1d53ac-9d26-425c-efa2-27290b3c814f",
        "colab": {
          "base_uri": "https://localhost:8080/"
        }
      },
      "source": [
        "print(X_train)"
      ],
      "execution_count": null,
      "outputs": [
        {
          "output_type": "stream",
          "name": "stdout",
          "text": [
            "[[0.0 0.0 1.0 38.77777777777778 52000.0]\n",
            " [0.0 1.0 0.0 40.0 63777.77777777778]\n",
            " [1.0 0.0 0.0 44.0 72000.0]\n",
            " [0.0 0.0 1.0 38.0 61000.0]\n",
            " [0.0 0.0 1.0 27.0 48000.0]\n",
            " [1.0 0.0 0.0 48.0 79000.0]\n",
            " [0.0 1.0 0.0 50.0 83000.0]\n",
            " [1.0 0.0 0.0 35.0 58000.0]]\n"
          ]
        }
      ]
    },
    {
      "cell_type": "code",
      "metadata": {
        "id": "TUrX_Tvcrbi4",
        "outputId": "bc9a6033-ac5d-415b-8a74-314008754f8c",
        "colab": {
          "base_uri": "https://localhost:8080/"
        }
      },
      "source": [
        "print(X_test)"
      ],
      "execution_count": null,
      "outputs": [
        {
          "output_type": "stream",
          "name": "stdout",
          "text": [
            "[[0.0 1.0 0.0 30.0 54000.0]\n",
            " [1.0 0.0 0.0 37.0 67000.0]]\n"
          ]
        }
      ]
    },
    {
      "cell_type": "code",
      "metadata": {
        "id": "pSMHiIsWreQY",
        "outputId": "a2e7b234-fe5b-4fd5-aec3-87268ac7cf21",
        "colab": {
          "base_uri": "https://localhost:8080/"
        }
      },
      "source": [
        "print(y_train)"
      ],
      "execution_count": null,
      "outputs": [
        {
          "output_type": "stream",
          "name": "stdout",
          "text": [
            "[0 1 0 0 1 1 0 1]\n"
          ]
        }
      ]
    },
    {
      "cell_type": "code",
      "metadata": {
        "id": "I_tW7H56rgtW",
        "outputId": "eb9fc556-e99f-4131-c1b3-e3d12e02a0b6",
        "colab": {
          "base_uri": "https://localhost:8080/"
        }
      },
      "source": [
        "print(y_test)"
      ],
      "execution_count": null,
      "outputs": [
        {
          "output_type": "stream",
          "name": "stdout",
          "text": [
            "[0 1]\n"
          ]
        }
      ]
    },
    {
      "cell_type": "markdown",
      "metadata": {
        "id": "TpGqbS4TqkIR"
      },
      "source": [
        "## Feature Scaling"
      ]
    },
    {
      "cell_type": "code",
      "metadata": {
        "id": "AxjSUXFQqo-3"
      },
      "source": [
        "from sklearn.preprocessing import StandardScaler\n",
        "sc = StandardScaler()\n",
        "X_train[:, 3:] = sc.fit_transform(X_train[:, 3:])\n",
        "X_test[:, 3:] = sc.transform(X_test[:, 3:])"
      ],
      "execution_count": null,
      "outputs": []
    },
    {
      "cell_type": "markdown",
      "source": [
        "**Feature scaling** always applied in colomns\n",
        "\n",
        "two tecniques:-\n",
        "\n",
        "Normalization **[0;1]**,\n",
        "\n",
        "Standardization**[-3;+3]**\n",
        "\n",
        "value should be inbwtween **scaling range**"
      ],
      "metadata": {
        "id": "Lc9oXMflEKX0"
      }
    },
    {
      "cell_type": "markdown",
      "source": [
        "We perform feature scaling after splitting test set and training set (to prevent data leakage)\n",
        "\n",
        "& ensure the integrity of our machine learning model's evaluation."
      ],
      "metadata": {
        "id": "kTAHwmwxC0DU"
      }
    },
    {
      "cell_type": "markdown",
      "source": [
        "### in this code we do not need to add a specific parameter(sc = StandardScaler())\n",
        "\n",
        "## feature scaling means **all the value should be in the same range**\n",
        "\n",
        "### **only apply feature scaling on numerical values** / `not on dummy variable such (0.0, 0.1, 0.1)`"
      ],
      "metadata": {
        "id": "SBVp7qKHLkM7"
      }
    },
    {
      "cell_type": "markdown",
      "source": [
        "feature scaling we do not use in simple linear regression, multiple linear regression, and ploynomial linear regression. Why ?"
      ],
      "metadata": {
        "id": "OveTBuKqG0gb"
      }
    },
    {
      "cell_type": "code",
      "metadata": {
        "id": "DWPET8ZdlMnu",
        "outputId": "25e9891e-5c64-4d06-9eca-caff2fe178d1",
        "colab": {
          "base_uri": "https://localhost:8080/"
        }
      },
      "source": [
        "print(X_train)"
      ],
      "execution_count": null,
      "outputs": [
        {
          "output_type": "stream",
          "name": "stdout",
          "text": [
            "[[0.0 0.0 1.0 -0.19159184384578545 -1.0781259408412425]\n",
            " [0.0 1.0 0.0 -0.014117293757057777 -0.07013167641635372]\n",
            " [1.0 0.0 0.0 0.566708506533324 0.633562432710455]\n",
            " [0.0 0.0 1.0 -0.30453019390224867 -0.30786617274297867]\n",
            " [0.0 0.0 1.0 -1.9018011447007988 -1.420463615551582]\n",
            " [1.0 0.0 0.0 1.1475343068237058 1.232653363453549]\n",
            " [0.0 1.0 0.0 1.4379472069688968 1.5749910381638885]\n",
            " [1.0 0.0 0.0 -0.7401495441200351 -0.5646194287757332]]\n"
          ]
        }
      ]
    },
    {
      "cell_type": "code",
      "metadata": {
        "id": "sTXykB_QlRjE",
        "outputId": "46705268-af2d-454b-ee8e-b272112699ee",
        "colab": {
          "base_uri": "https://localhost:8080/"
        }
      },
      "source": [
        "print(X_test)"
      ],
      "execution_count": null,
      "outputs": [
        {
          "output_type": "stream",
          "name": "stdout",
          "text": [
            "[[0.0 1.0 0.0 -1.4661817944830124 -0.9069571034860727]\n",
            " [1.0 0.0 0.0 -0.44973664397484414 0.2056403393225306]]\n"
          ]
        }
      ]
    }
  ]
}